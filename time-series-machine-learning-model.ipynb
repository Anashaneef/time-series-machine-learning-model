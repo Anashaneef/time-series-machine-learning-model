{
  "nbformat": 4,
  "nbformat_minor": 0,
  "metadata": {
    "colab": {
      "name": "proyek2_time_series_forecasting.ipynb",
      "provenance": []
    },
    "kernelspec": {
      "name": "python3",
      "display_name": "Python 3"
    },
    "language_info": {
      "name": "python"
    }
  },
  "cells": [
    {
      "cell_type": "markdown",
      "source": [
        "Nama = Anas Fikri Hanif\\\n",
        "SIB ID = M183X0321"
      ],
      "metadata": {
        "id": "0D8yi9387Rh_"
      }
    },
    {
      "cell_type": "markdown",
      "source": [
        "**Import Library**"
      ],
      "metadata": {
        "id": "wL1mSd7R7Xzo"
      }
    },
    {
      "cell_type": "code",
      "execution_count": null,
      "metadata": {
        "id": "7cuheOO_7EZi"
      },
      "outputs": [],
      "source": [
        "import pandas as pd\n",
        "import matplotlib.pyplot as plt\n",
        "import numpy as np\n",
        "import tensorflow as tf\n",
        "from sklearn.preprocessing import MinMaxScaler\n",
        "from sklearn.model_selection import train_test_split"
      ]
    },
    {
      "cell_type": "markdown",
      "source": [
        "**Menyaipkan Dataset**"
      ],
      "metadata": {
        "id": "upJG_uTm71Yl"
      }
    },
    {
      "cell_type": "code",
      "source": [
        "df = pd.read_csv('AEP_hourly.csv')\n",
        "df"
      ],
      "metadata": {
        "colab": {
          "base_uri": "https://localhost:8080/",
          "height": 424
        },
        "id": "quzmlOJV8Q7N",
        "outputId": "f90dbe49-1042-4acf-bfbb-4978c464a162"
      },
      "execution_count": 10,
      "outputs": [
        {
          "output_type": "execute_result",
          "data": {
            "text/plain": [
              "                  Datetime   AEP_MW\n",
              "0      2016-12-31 01:00:00  14877.0\n",
              "1      2016-12-31 02:00:00  14588.0\n",
              "2      2016-12-31 03:00:00  14514.0\n",
              "3      2016-12-31 04:00:00  14591.0\n",
              "4      2016-12-31 05:00:00  14604.0\n",
              "...                    ...      ...\n",
              "22674  2018-01-01 20:00:00  21089.0\n",
              "22675  2018-01-01 21:00:00  20999.0\n",
              "22676  2018-01-01 22:00:00  20820.0\n",
              "22677  2018-01-01 23:00:00  20415.0\n",
              "22678  2018-01-02 00:00:00  19993.0\n",
              "\n",
              "[22679 rows x 2 columns]"
            ],
            "text/html": [
              "\n",
              "  <div id=\"df-08dd7f19-7db8-4792-bc44-07a7e80b3791\">\n",
              "    <div class=\"colab-df-container\">\n",
              "      <div>\n",
              "<style scoped>\n",
              "    .dataframe tbody tr th:only-of-type {\n",
              "        vertical-align: middle;\n",
              "    }\n",
              "\n",
              "    .dataframe tbody tr th {\n",
              "        vertical-align: top;\n",
              "    }\n",
              "\n",
              "    .dataframe thead th {\n",
              "        text-align: right;\n",
              "    }\n",
              "</style>\n",
              "<table border=\"1\" class=\"dataframe\">\n",
              "  <thead>\n",
              "    <tr style=\"text-align: right;\">\n",
              "      <th></th>\n",
              "      <th>Datetime</th>\n",
              "      <th>AEP_MW</th>\n",
              "    </tr>\n",
              "  </thead>\n",
              "  <tbody>\n",
              "    <tr>\n",
              "      <th>0</th>\n",
              "      <td>2016-12-31 01:00:00</td>\n",
              "      <td>14877.0</td>\n",
              "    </tr>\n",
              "    <tr>\n",
              "      <th>1</th>\n",
              "      <td>2016-12-31 02:00:00</td>\n",
              "      <td>14588.0</td>\n",
              "    </tr>\n",
              "    <tr>\n",
              "      <th>2</th>\n",
              "      <td>2016-12-31 03:00:00</td>\n",
              "      <td>14514.0</td>\n",
              "    </tr>\n",
              "    <tr>\n",
              "      <th>3</th>\n",
              "      <td>2016-12-31 04:00:00</td>\n",
              "      <td>14591.0</td>\n",
              "    </tr>\n",
              "    <tr>\n",
              "      <th>4</th>\n",
              "      <td>2016-12-31 05:00:00</td>\n",
              "      <td>14604.0</td>\n",
              "    </tr>\n",
              "    <tr>\n",
              "      <th>...</th>\n",
              "      <td>...</td>\n",
              "      <td>...</td>\n",
              "    </tr>\n",
              "    <tr>\n",
              "      <th>22674</th>\n",
              "      <td>2018-01-01 20:00:00</td>\n",
              "      <td>21089.0</td>\n",
              "    </tr>\n",
              "    <tr>\n",
              "      <th>22675</th>\n",
              "      <td>2018-01-01 21:00:00</td>\n",
              "      <td>20999.0</td>\n",
              "    </tr>\n",
              "    <tr>\n",
              "      <th>22676</th>\n",
              "      <td>2018-01-01 22:00:00</td>\n",
              "      <td>20820.0</td>\n",
              "    </tr>\n",
              "    <tr>\n",
              "      <th>22677</th>\n",
              "      <td>2018-01-01 23:00:00</td>\n",
              "      <td>20415.0</td>\n",
              "    </tr>\n",
              "    <tr>\n",
              "      <th>22678</th>\n",
              "      <td>2018-01-02 00:00:00</td>\n",
              "      <td>19993.0</td>\n",
              "    </tr>\n",
              "  </tbody>\n",
              "</table>\n",
              "<p>22679 rows × 2 columns</p>\n",
              "</div>\n",
              "      <button class=\"colab-df-convert\" onclick=\"convertToInteractive('df-08dd7f19-7db8-4792-bc44-07a7e80b3791')\"\n",
              "              title=\"Convert this dataframe to an interactive table.\"\n",
              "              style=\"display:none;\">\n",
              "        \n",
              "  <svg xmlns=\"http://www.w3.org/2000/svg\" height=\"24px\"viewBox=\"0 0 24 24\"\n",
              "       width=\"24px\">\n",
              "    <path d=\"M0 0h24v24H0V0z\" fill=\"none\"/>\n",
              "    <path d=\"M18.56 5.44l.94 2.06.94-2.06 2.06-.94-2.06-.94-.94-2.06-.94 2.06-2.06.94zm-11 1L8.5 8.5l.94-2.06 2.06-.94-2.06-.94L8.5 2.5l-.94 2.06-2.06.94zm10 10l.94 2.06.94-2.06 2.06-.94-2.06-.94-.94-2.06-.94 2.06-2.06.94z\"/><path d=\"M17.41 7.96l-1.37-1.37c-.4-.4-.92-.59-1.43-.59-.52 0-1.04.2-1.43.59L10.3 9.45l-7.72 7.72c-.78.78-.78 2.05 0 2.83L4 21.41c.39.39.9.59 1.41.59.51 0 1.02-.2 1.41-.59l7.78-7.78 2.81-2.81c.8-.78.8-2.07 0-2.86zM5.41 20L4 18.59l7.72-7.72 1.47 1.35L5.41 20z\"/>\n",
              "  </svg>\n",
              "      </button>\n",
              "      \n",
              "  <style>\n",
              "    .colab-df-container {\n",
              "      display:flex;\n",
              "      flex-wrap:wrap;\n",
              "      gap: 12px;\n",
              "    }\n",
              "\n",
              "    .colab-df-convert {\n",
              "      background-color: #E8F0FE;\n",
              "      border: none;\n",
              "      border-radius: 50%;\n",
              "      cursor: pointer;\n",
              "      display: none;\n",
              "      fill: #1967D2;\n",
              "      height: 32px;\n",
              "      padding: 0 0 0 0;\n",
              "      width: 32px;\n",
              "    }\n",
              "\n",
              "    .colab-df-convert:hover {\n",
              "      background-color: #E2EBFA;\n",
              "      box-shadow: 0px 1px 2px rgba(60, 64, 67, 0.3), 0px 1px 3px 1px rgba(60, 64, 67, 0.15);\n",
              "      fill: #174EA6;\n",
              "    }\n",
              "\n",
              "    [theme=dark] .colab-df-convert {\n",
              "      background-color: #3B4455;\n",
              "      fill: #D2E3FC;\n",
              "    }\n",
              "\n",
              "    [theme=dark] .colab-df-convert:hover {\n",
              "      background-color: #434B5C;\n",
              "      box-shadow: 0px 1px 3px 1px rgba(0, 0, 0, 0.15);\n",
              "      filter: drop-shadow(0px 1px 2px rgba(0, 0, 0, 0.3));\n",
              "      fill: #FFFFFF;\n",
              "    }\n",
              "  </style>\n",
              "\n",
              "      <script>\n",
              "        const buttonEl =\n",
              "          document.querySelector('#df-08dd7f19-7db8-4792-bc44-07a7e80b3791 button.colab-df-convert');\n",
              "        buttonEl.style.display =\n",
              "          google.colab.kernel.accessAllowed ? 'block' : 'none';\n",
              "\n",
              "        async function convertToInteractive(key) {\n",
              "          const element = document.querySelector('#df-08dd7f19-7db8-4792-bc44-07a7e80b3791');\n",
              "          const dataTable =\n",
              "            await google.colab.kernel.invokeFunction('convertToInteractive',\n",
              "                                                     [key], {});\n",
              "          if (!dataTable) return;\n",
              "\n",
              "          const docLinkHtml = 'Like what you see? Visit the ' +\n",
              "            '<a target=\"_blank\" href=https://colab.research.google.com/notebooks/data_table.ipynb>data table notebook</a>'\n",
              "            + ' to learn more about interactive tables.';\n",
              "          element.innerHTML = '';\n",
              "          dataTable['output_type'] = 'display_data';\n",
              "          await google.colab.output.renderOutput(dataTable, element);\n",
              "          const docLink = document.createElement('div');\n",
              "          docLink.innerHTML = docLinkHtml;\n",
              "          element.appendChild(docLink);\n",
              "        }\n",
              "      </script>\n",
              "    </div>\n",
              "  </div>\n",
              "  "
            ]
          },
          "metadata": {},
          "execution_count": 10
        }
      ]
    },
    {
      "cell_type": "code",
      "source": [
        "df.info()"
      ],
      "metadata": {
        "colab": {
          "base_uri": "https://localhost:8080/"
        },
        "id": "ejOUxKVY8Xdp",
        "outputId": "11bff1fe-f5dc-4c36-ab46-d43444e2d8f4"
      },
      "execution_count": 11,
      "outputs": [
        {
          "output_type": "stream",
          "name": "stdout",
          "text": [
            "<class 'pandas.core.frame.DataFrame'>\n",
            "RangeIndex: 22679 entries, 0 to 22678\n",
            "Data columns (total 2 columns):\n",
            " #   Column    Non-Null Count  Dtype  \n",
            "---  ------    --------------  -----  \n",
            " 0   Datetime  22679 non-null  object \n",
            " 1   AEP_MW    22679 non-null  float64\n",
            "dtypes: float64(1), object(1)\n",
            "memory usage: 354.5+ KB\n"
          ]
        }
      ]
    },
    {
      "cell_type": "markdown",
      "source": [
        "**Membuat Plot**"
      ],
      "metadata": {
        "id": "ekAtbUYL9c0R"
      }
    },
    {
      "cell_type": "code",
      "source": [
        "date = df['Datetime'].values\n",
        "consumption = df['AEP_MW'].values # energy consumption\n",
        "\n",
        "plt.figure(figsize=(18, 5))\n",
        "plt.plot(date, consumption)\n",
        "plt.title('American Electric Power')"
      ],
      "metadata": {
        "colab": {
          "base_uri": "https://localhost:8080/",
          "height": 353
        },
        "id": "kRaHIEK88aQj",
        "outputId": "d1d15603-9f6f-417b-cb1e-de262d829e57"
      },
      "execution_count": 12,
      "outputs": [
        {
          "output_type": "execute_result",
          "data": {
            "text/plain": [
              "Text(0.5, 1.0, 'American Electric Power')"
            ]
          },
          "metadata": {},
          "execution_count": 12
        },
        {
          "output_type": "display_data",
          "data": {
            "text/plain": [
              "<Figure size 1296x360 with 1 Axes>"
            ],
            "image/png": "[encoded data removed]"
          },
          "metadata": {
            "needs_background": "light"
          }
        }
      ]
    },
    {
      "cell_type": "markdown",
      "source": [
        "**Data Scaler**"
      ],
      "metadata": {
        "id": "EU1KO7I4KYG6"
      }
    },
    {
      "cell_type": "code",
      "source": [
        "consumption = consumption.reshape(-1, 1)\n",
        "\n",
        "minmax_scaler = MinMaxScaler()\n",
        "scaled_consumption = minmax_scaler.fit_transform(consumption)\n",
        "scaled_consumption = scaled_consumption.reshape(1, -1)\n",
        "scaled_consumption = np.hstack(scaled_consumption)"
      ],
      "metadata": {
        "id": "qYeMsOfT-hIa"
      },
      "execution_count": 14,
      "outputs": []
    },
    {
      "cell_type": "markdown",
      "source": [
        "**Splitting Train dan Test**"
      ],
      "metadata": {
        "id": "xXJlJhXOLS42"
      }
    },
    {
      "cell_type": "code",
      "source": [
        "# data validation sebesar 20%\n",
        "x_train, x_test, y_train, y_test = train_test_split(date, scaled_consumption, test_size=0.2, random_state=1, shuffle=False)"
      ],
      "metadata": {
        "id": "wUFYKnrmLRqv"
      },
      "execution_count": 15,
      "outputs": []
    },
    {
      "cell_type": "markdown",
      "source": [
        "**Formatting Data**"
      ],
      "metadata": {
        "id": "fA-SByCrMEB0"
      }
    },
    {
      "cell_type": "code",
      "source": [
        "def windowed_dataset(series, window_size, batch_size, shuffle_buffer):\n",
        "  series = tf.expand_dims(series, axis=-1)\n",
        "  ds = tf.data.Dataset.from_tensor_slices(series)\n",
        "  ds = ds.window(window_size + 1, shift=1, drop_remainder=True)\n",
        "  ds = ds.flat_map(lambda w: w.batch(window_size + 1))\n",
        "  ds = ds.shuffle(shuffle_buffer)\n",
        "  ds = ds.map(lambda w: (w[:-1], w[-1:]))\n",
        "  return ds.batch(batch_size).prefetch(1)"
      ],
      "metadata": {
        "id": "pQ8b89lbMDVF"
      },
      "execution_count": 16,
      "outputs": []
    },
    {
      "cell_type": "markdown",
      "source": [
        "**Modelling Data**"
      ],
      "metadata": {
        "id": "3-sdYTtpMlfh"
      }
    },
    {
      "cell_type": "code",
      "source": [
        "train_set = windowed_dataset(y_train, window_size=90, batch_size=100, shuffle_buffer=1000)\n",
        "val_set = windowed_dataset(y_test, window_size=90, batch_size=100, shuffle_buffer=1000)\n",
        "\n",
        "model = tf.keras.models.Sequential([\n",
        "    tf.keras.layers.LSTM(60, return_sequences=True),\n",
        "    tf.keras.layers.LSTM(60),\n",
        "    tf.keras.layers.Dense(512, activation='relu'),\n",
        "    tf.keras.layers.Dropout(0.5),\n",
        "    tf.keras.layers.Dense(256, activation='relu'),\n",
        "    tf.keras.layers.Dense(1)\n",
        "])"
      ],
      "metadata": {
        "id": "01F_FKiaMNvD"
      },
      "execution_count": 17,
      "outputs": []
    },
    {
      "cell_type": "code",
      "source": [
        "optimizer = tf.keras.optimizers.SGD(lr=1.000e-01, momentum=0.9)\n",
        "\n",
        "model.compile(loss='Huber',\n",
        "              optimizer = optimizer,\n",
        "              metrics = ['mae'])"
      ],
      "metadata": {
        "colab": {
          "base_uri": "https://localhost:8080/"
        },
        "id": "t6BlABimOAJ8",
        "outputId": "48789e8f-e65c-4b09-ca38-6d10678306d6"
      },
      "execution_count": 18,
      "outputs": [
        {
          "output_type": "stream",
          "name": "stderr",
          "text": [
            "/usr/local/lib/python3.7/dist-packages/keras/optimizer_v2/gradient_descent.py:102: UserWarning: The `lr` argument is deprecated, use `learning_rate` instead.\n",
            "  super(SGD, self).__init__(name, **kwargs)\n"
          ]
        }
      ]
    },
    {
      "cell_type": "markdown",
      "source": [
        "**Pembuatan Callback**"
      ],
      "metadata": {
        "id": "zyAq0y4xOgF8"
      }
    },
    {
      "cell_type": "code",
      "source": [
        "# mencari 10% skala data\n",
        "data_scale = (max(scaled_consumption) - min(scaled_consumption)) * 0.1\n",
        "print(data_scale)"
      ],
      "metadata": {
        "colab": {
          "base_uri": "https://localhost:8080/"
        },
        "id": "N2lsdzgROcEG",
        "outputId": "835da002-b74e-499a-b45d-57eaf81a8424"
      },
      "execution_count": 19,
      "outputs": [
        {
          "output_type": "stream",
          "name": "stdout",
          "text": [
            "0.1\n"
          ]
        }
      ]
    },
    {
      "cell_type": "code",
      "source": [
        "class myCallback(tf.keras.callbacks.Callback):\n",
        "  def on_epoch_end(self, epoch, logs={}):\n",
        "    if (logs.get('mae') < data_scale) and (logs.get('val_mae') < data_scale):\n",
        "      self.model.stop_training = True,\n",
        "      print('\\nMAE mencapai dibawah 10% dari skala data!')\n",
        "\n",
        "callbacks = myCallback()"
      ],
      "metadata": {
        "id": "JnyIQJxmPIZQ"
      },
      "execution_count": 20,
      "outputs": []
    },
    {
      "cell_type": "markdown",
      "source": [
        "**Fitting Data**"
      ],
      "metadata": {
        "id": "bJIn4N4oQPWY"
      }
    },
    {
      "cell_type": "code",
      "source": [
        "history = model.fit(\n",
        "    train_set, \n",
        "    epochs = 100,\n",
        "    validation_data = val_set,\n",
        "    verbose = 2,\n",
        "    callbacks = [callbacks]\n",
        ")"
      ],
      "metadata": {
        "colab": {
          "base_uri": "https://localhost:8080/"
        },
        "id": "o687haOwQTe5",
        "outputId": "ba63f784-5126-434f-8fb5-103281d1f1bb"
      },
      "execution_count": 23,
      "outputs": [
        {
          "output_type": "stream",
          "name": "stdout",
          "text": [
            "Epoch 1/100\n",
            "181/181 - 41s - loss: 0.0156 - mae: 0.1400 - val_loss: 0.0098 - val_mae: 0.1105 - 41s/epoch - 226ms/step\n",
            "Epoch 2/100\n",
            "181/181 - 34s - loss: 0.0092 - mae: 0.1066 - val_loss: 0.0055 - val_mae: 0.0824 - 34s/epoch - 187ms/step\n",
            "Epoch 3/100\n",
            "\n",
            "MAE mencapai dibawah 10% dari skala data!\n",
            "181/181 - 32s - loss: 0.0039 - mae: 0.0695 - val_loss: 0.0037 - val_mae: 0.0673 - 32s/epoch - 179ms/step\n"
          ]
        }
      ]
    },
    {
      "cell_type": "markdown",
      "source": [
        "**Pembuatan Plot MAE dan Plot Loss**"
      ],
      "metadata": {
        "id": "Ls_hPyWyRcvy"
      }
    },
    {
      "cell_type": "code",
      "source": [
        "# plot mae\n",
        "plt.plot(history.history['mae'])\n",
        "plt.plot(history.history['val_mae'])\n",
        "plt.title('MAE Model')\n",
        "plt.ylabel('MAE')\n",
        "plt.xlabel('Epoch')\n",
        "plt.legend(['train', 'test'], loc = 'upper left')\n",
        "plt.show()"
      ],
      "metadata": {
        "colab": {
          "base_uri": "https://localhost:8080/",
          "height": 295
        },
        "id": "sY7q8P3tRb6Y",
        "outputId": "362b8470-5d87-47ec-ed1f-e8ed190127a4"
      },
      "execution_count": 24,
      "outputs": [
        {
          "output_type": "display_data",
          "data": {
            "text/plain": [
              "<Figure size 432x288 with 1 Axes>"
            ],
            "image/png": "[encoded data removed]"
          },
          "metadata": {
            "needs_background": "light"
          }
        }
      ]
    },
    {
      "cell_type": "code",
      "source": [
        "# plot loss\n",
        "plt.plot(history.history['loss'])\n",
        "plt.plot(history.history['val_loss'])\n",
        "plt.title('Loss Model')\n",
        "plt.ylabel('Loss')\n",
        "plt.xlabel('Epoch')\n",
        "plt.legend(['train', 'test'], loc = 'upper left')\n",
        "plt.show()"
      ],
      "metadata": {
        "colab": {
          "base_uri": "https://localhost:8080/",
          "height": 295
        },
        "id": "ft9_qhGNSGaM",
        "outputId": "e711c194-c5d3-422b-a2a1-9860a8c63af0"
      },
      "execution_count": 25,
      "outputs": [
        {
          "output_type": "display_data",
          "data": {
            "text/plain": [
              "<Figure size 432x288 with 1 Axes>"
            ],
            "image/png": "[encoded data removed]"
          },
          "metadata": {
            "needs_background": "light"
          }
        }
      ]
    }
  ]
}